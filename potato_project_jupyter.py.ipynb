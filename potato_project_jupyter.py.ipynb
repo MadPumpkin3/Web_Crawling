{
 "cells": [
  {
   "cell_type": "code",
   "execution_count": 2,
   "id": "63f25a3c",
   "metadata": {},
   "outputs": [
    {
     "name": "stdout",
     "output_type": "stream",
     "text": [
      "3052\n",
      "4919\n",
      "6820\n",
      "8698\n",
      "9668\n",
      "2468\n",
      "4925\n",
      "6834\n",
      "8722\n",
      "9654\n",
      "2496\n",
      "4893\n",
      "6770\n",
      "8638\n",
      "9589\n",
      "2986\n",
      "4823\n",
      "6701\n",
      "8642\n",
      "9643\n",
      "3023\n",
      "4905\n",
      "6803\n",
      "8678\n",
      "9656\n",
      "2444\n",
      "4894\n",
      "6739\n",
      "8640\n",
      "9580\n",
      "3007\n",
      "4884\n",
      "6727\n",
      "8588\n",
      "9514\n",
      "3007\n",
      "4906\n",
      "6826\n",
      "8779\n",
      "9742\n",
      "2522\n",
      "4928\n",
      "6768\n",
      "8723\n",
      "9649\n",
      "2447\n",
      "4820\n",
      "6704\n",
      "8628\n",
      "9577\n"
     ]
    }
   ],
   "source": [
    "from selenium import webdriver\n",
    "from selenium.webdriver.common.by import By\n",
    "import time\n",
    "import pandas as pd\n",
    "from selenium.webdriver.common.keys import Keys\n",
    "\n",
    "browser = webdriver.Chrome()\n",
    "browser.maximize_window()\n",
    "\n",
    "# 데이터 가져오기\n",
    "names =[]\n",
    "prices = []\n",
    "review_cnts = []\n",
    "links = []\n",
    "\n",
    "for i in range(1, 11):\n",
    "    browser.implicitly_wait(10)\n",
    "    url = browser.get(f\"https://search.shopping.naver.com/search/all?frm=NVSHATC&origQuery=%EA%B3%A0%EA%B5%AC%EB%A7%88&pagingIndex={i}&pagingSize=40&productSet=total&query=%EA%B3%A0%EA%B5%AC%EB%A7%88&sort=review&timestamp=&viewType=list\")\n",
    "\n",
    "    while True:\n",
    "        bh = browser.execute_script(\"return document.body.scrollHeight\") # 브라우저 상의 처음 높이\n",
    "        print(bh)\n",
    "        time.sleep(4)\n",
    "        browser.execute_script(\"window.scrollTo(0, document.body.scrollHeight)\") # 스크롤 내리기\n",
    "        time.sleep(2)\n",
    "        ah = browser.execute_script(\"return document.body.scrollHeight\")\n",
    "        if ah == bh:\n",
    "            break\n",
    "    \n",
    "    infos = browser.find_elements(By.CLASS_NAME, \"basicList_info_area__TWvzp\")\n",
    "    for info in infos:\n",
    "        try:\n",
    "            name = info.find_element(By.CLASS_NAME, \"basicList_link__JLQJf\")\n",
    "            price = info.find_element(By.CLASS_NAME, \"price_num__S2p_v\").text\n",
    "            review_cnt = info.find_element(By.CLASS_NAME, \"basicList_num__sfz3h\").text\n",
    "            link = info.find_element(By.CLASS_NAME, \"basicList_link__JLQJf\").get_attribute(\"href\")\n",
    "            names.append(name.text)\n",
    "            prices.append(price)\n",
    "            review_cnts.append(review_cnt)\n",
    "            links.append(link)\n",
    "        except:\n",
    "            print(\"Exeption\")\n",
    "            \n",
    "browser.close()"
   ]
  },
  {
   "cell_type": "code",
   "execution_count": 3,
   "id": "5fdf599c",
   "metadata": {},
   "outputs": [
    {
     "name": "stdout",
     "output_type": "stream",
     "text": [
      "                                      name    price review_cnt  \\\n",
      "0             해남 꿀 고구마 3kg 5kg 호박고구마 베니하루카   5,900원    296,722   \n",
      "1           해남 꿀 고구마 3kg 5kg 베니하루카 황금호박고구마   5,700원    248,346   \n",
      "2                              김의준 세척 꿀고구마  18,900원    150,482   \n",
      "3    영암 세척 무농약 꿀 고구마 3kg 5kg 황금호박고구마 베니하루카  13,900원    148,256   \n",
      "4                해남 꿀 밤 호박고구마 3kg 5kg 10kg   5,900원    109,618   \n",
      "..                                     ...      ...        ...   \n",
      "395                          김제 밤고구마 1.5kg   7,380원      1,311   \n",
      "396                 22년수확 꿀밤고구마 한입고구마 10kg  17,900원      1,305   \n",
      "397         [착한식탁]2022수확 해남 햇꿀고구마 10kg 못난이  12,280원      1,300   \n",
      "398          22년 고창 꿀단지 황토 꿀고구마 3kg 5kg 특상  12,510원      1,299   \n",
      "399                  해남 꿀 고구마 3kg 특상 베니하루카  11,900원      1,297   \n",
      "\n",
      "                                                  link  \n",
      "0    https://cr.shopping.naver.com/adcr.nhn?x=1e%2B...  \n",
      "1    https://cr.shopping.naver.com/adcr.nhn?x=e3cqk...  \n",
      "2    https://cr.shopping.naver.com/adcr.nhn?x=7Gh9U...  \n",
      "3    https://cr.shopping.naver.com/adcr.nhn?x=ANtVQ...  \n",
      "4    https://cr.shopping.naver.com/adcr.nhn?x=6q9hz...  \n",
      "..                                                 ...  \n",
      "395  https://cr.shopping.naver.com/adcr.nhn?x=vA1w8...  \n",
      "396  https://cr.shopping.naver.com/adcr.nhn?x=Nt45k...  \n",
      "397  https://cr.shopping.naver.com/adcr.nhn?x=QAlyA...  \n",
      "398  https://cr.shopping.naver.com/adcr.nhn?x=EpqTM...  \n",
      "399  https://cr.shopping.naver.com/adcr.nhn?x=RY6Vl...  \n",
      "\n",
      "[400 rows x 4 columns]\n"
     ]
    }
   ],
   "source": [
    "df = pd.DataFrame({'name':names, 'price':prices, 'review_cnt':review_cnts, 'link':links})\n",
    "print(df)"
   ]
  },
  {
   "cell_type": "code",
   "execution_count": 8,
   "id": "fed8e5d1",
   "metadata": {},
   "outputs": [],
   "source": [
    "# 데이터 프레임을 엑셀(csv)\n",
    "df.to_csv('./best_sweet_potato.csv')"
   ]
  },
  {
   "cell_type": "code",
   "execution_count": 9,
   "id": "2569176a",
   "metadata": {},
   "outputs": [],
   "source": [
    "# 데이터 프레임을 엑셀로 저장하는데 utf-8-sig, csv는 sep은 , 로 구분해줘야지 한글깨짐이 없다.\n",
    "df.to_csv('./best_sweet_potato_exl.csv', sep = \",\", encoding = 'utf-8-sig')"
   ]
  },
  {
   "cell_type": "code",
   "execution_count": 10,
   "id": "33176c23",
   "metadata": {},
   "outputs": [
    {
     "name": "stdout",
     "output_type": "stream",
     "text": [
      "Collecting wordcloud\n",
      "  Downloading wordcloud-1.8.2.2.tar.gz (220 kB)\n",
      "\u001b[2K     \u001b[38;2;114;156;31m━━━━━━━━━━━━━━━━━━━━━━━━━━━━━━━━━━━━━━\u001b[0m \u001b[32m220.8/220.8 kB\u001b[0m \u001b[31m10.1 MB/s\u001b[0m eta \u001b[36m0:00:00\u001b[0m\n",
      "\u001b[?25h  Preparing metadata (setup.py) ... \u001b[?25ldone\n",
      "\u001b[?25hRequirement already satisfied: numpy>=1.6.1 in /Users/beomtaehyeon/miniforge3/envs/MadPumpkin/lib/python3.8/site-packages (from wordcloud) (1.24.1)\n",
      "Requirement already satisfied: pillow in /Users/beomtaehyeon/miniforge3/envs/MadPumpkin/lib/python3.8/site-packages (from wordcloud) (9.2.0)\n",
      "Requirement already satisfied: matplotlib in /Users/beomtaehyeon/miniforge3/envs/MadPumpkin/lib/python3.8/site-packages (from wordcloud) (3.5.2)\n",
      "Requirement already satisfied: fonttools>=4.22.0 in /Users/beomtaehyeon/miniforge3/envs/MadPumpkin/lib/python3.8/site-packages (from matplotlib->wordcloud) (4.25.0)\n",
      "Requirement already satisfied: kiwisolver>=1.0.1 in /Users/beomtaehyeon/miniforge3/envs/MadPumpkin/lib/python3.8/site-packages (from matplotlib->wordcloud) (1.4.2)\n",
      "Requirement already satisfied: packaging>=20.0 in /Users/beomtaehyeon/miniforge3/envs/MadPumpkin/lib/python3.8/site-packages (from matplotlib->wordcloud) (21.3)\n",
      "Requirement already satisfied: python-dateutil>=2.7 in /Users/beomtaehyeon/miniforge3/envs/MadPumpkin/lib/python3.8/site-packages (from matplotlib->wordcloud) (2.8.2)\n",
      "Requirement already satisfied: pyparsing>=2.2.1 in /Users/beomtaehyeon/miniforge3/envs/MadPumpkin/lib/python3.8/site-packages (from matplotlib->wordcloud) (3.0.9)\n",
      "Requirement already satisfied: cycler>=0.10 in /Users/beomtaehyeon/miniforge3/envs/MadPumpkin/lib/python3.8/site-packages (from matplotlib->wordcloud) (0.11.0)\n",
      "Requirement already satisfied: six>=1.5 in /Users/beomtaehyeon/miniforge3/envs/MadPumpkin/lib/python3.8/site-packages (from python-dateutil>=2.7->matplotlib->wordcloud) (1.16.0)\n",
      "Building wheels for collected packages: wordcloud\n",
      "  Building wheel for wordcloud (setup.py) ... \u001b[?25ldone\n",
      "\u001b[?25h  Created wheel for wordcloud: filename=wordcloud-1.8.2.2-cp38-cp38-macosx_11_0_arm64.whl size=151464 sha256=cc30fa3c68e02f99737229b6f5176c4fa1151aa7266fc8913c92342c59d3f2cd\n",
      "  Stored in directory: /Users/beomtaehyeon/Library/Caches/pip/wheels/15/b9/85/bbf1a61ec123d55066b26e32ab7ffbb7e03e2eec3e0eea5b64\n",
      "Successfully built wordcloud\n",
      "Installing collected packages: wordcloud\n",
      "Successfully installed wordcloud-1.8.2.2\n",
      "Note: you may need to restart the kernel to use updated packages.\n"
     ]
    }
   ],
   "source": [
    "pip install wordcloud"
   ]
  },
  {
   "cell_type": "code",
   "execution_count": 5,
   "id": "f74e8f78",
   "metadata": {},
   "outputs": [
    {
     "data": {
      "text/plain": [
       "<wordcloud.wordcloud.WordCloud at 0x14aa736d0>"
      ]
     },
     "execution_count": 5,
     "metadata": {},
     "output_type": "execute_result"
    }
   ],
   "source": [
    "# 가장 많은 데이터를 강조하여 이미지로 만들어주는 라이브러리\n",
    "import sys\n",
    "from wordcloud import WordCloud\n",
    "\n",
    "filename = sys.argv[1]\n",
    "wc = WordCloud(font_path = './AppleGothic.ttf', colormap = \"PuBu\", width = 500, height = 500)\n",
    "wc.generate(str(df['name'])) # 데이터 프레임의 이름만 워드 클라우드로 재료로 쓰는 것\n",
    "wc.to_file('고구마.png')"
   ]
  },
  {
   "cell_type": "code",
   "execution_count": null,
   "id": "8f482f98",
   "metadata": {},
   "outputs": [],
   "source": []
  }
 ],
 "metadata": {
  "kernelspec": {
   "display_name": "Python 3 (ipykernel)",
   "language": "python",
   "name": "python3"
  },
  "language_info": {
   "codemirror_mode": {
    "name": "ipython",
    "version": 3
   },
   "file_extension": ".py",
   "mimetype": "text/x-python",
   "name": "python",
   "nbconvert_exporter": "python",
   "pygments_lexer": "ipython3",
   "version": "3.8.13"
  }
 },
 "nbformat": 4,
 "nbformat_minor": 5
}
